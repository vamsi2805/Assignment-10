{
  "nbformat": 4,
  "nbformat_minor": 0,
  "metadata": {
    "colab": {
      "name": "Assignment 10.py",
      "provenance": [],
      "collapsed_sections": [],
      "authorship_tag": "ABX9TyP5SaVevQPfgEQYNWRtYOGK",
      "include_colab_link": true
    },
    "kernelspec": {
      "name": "python3",
      "display_name": "Python 3"
    }
  },
  "cells": [
    {
      "cell_type": "markdown",
      "metadata": {
        "id": "view-in-github",
        "colab_type": "text"
      },
      "source": [
        "<a href=\"https://colab.research.google.com/github/vamsi2805/Assignment-10/blob/master/Assignment_10_py.ipynb\" target=\"_parent\"><img src=\"https://colab.research.google.com/assets/colab-badge.svg\" alt=\"Open In Colab\"/></a>"
      ]
    },
    {
      "cell_type": "markdown",
      "metadata": {
        "id": "Yn9zVkvADPdU",
        "colab_type": "text"
      },
      "source": [
        "1. write a program to get the largest and smallest number from a list."
      ]
    },
    {
      "cell_type": "code",
      "metadata": {
        "id": "UBxJbYxIDVcG",
        "colab_type": "code",
        "colab": {
          "base_uri": "https://localhost:8080/",
          "height": 68
        },
        "outputId": "11c87b6f-caf5-4432-f068-7823ab9f6149"
      },
      "source": [
        "list = [1,4,58,45,64]\n",
        "print(\"given list is:\",list)\n",
        "print(\"Largest number in list is\",max(list))\n",
        "print(\"Smallest number in list:\",min(list))"
      ],
      "execution_count": 1,
      "outputs": [
        {
          "output_type": "stream",
          "text": [
            "given list is: [1, 4, 58, 45, 64]\n",
            "Largest number in list is 64\n",
            "Smallest number in list: 1\n"
          ],
          "name": "stdout"
        }
      ]
    },
    {
      "cell_type": "markdown",
      "metadata": {
        "id": "TjtgnaSKDmC2",
        "colab_type": "text"
      },
      "source": [
        "2.write a program to remove duplicate elements from a list."
      ]
    },
    {
      "cell_type": "code",
      "metadata": {
        "id": "k1so750kDr9u",
        "colab_type": "code",
        "colab": {
          "base_uri": "https://localhost:8080/",
          "height": 34
        },
        "outputId": "89e4b05e-b0eb-4e32-cb69-62ce8535db5a"
      },
      "source": [
        "list = [21,44,44,66,31,31,31,82,77,77,0,11]\n",
        "newlist = []\n",
        "\n",
        "for item in list:\n",
        "    if item not in newlist:\n",
        "        newlist.append(item)\n",
        "print(\"New list:\",newlist)"
      ],
      "execution_count": 2,
      "outputs": [
        {
          "output_type": "stream",
          "text": [
            "New list: [21, 44, 66, 31, 82, 77, 0, 11]\n"
          ],
          "name": "stdout"
        }
      ]
    },
    {
      "cell_type": "markdown",
      "metadata": {
        "id": "xya9VFHkD9qc",
        "colab_type": "text"
      },
      "source": [
        "3.write a program to check if the list is empty or not."
      ]
    },
    {
      "cell_type": "code",
      "metadata": {
        "id": "g6mov7Z5ECmi",
        "colab_type": "code",
        "colab": {
          "base_uri": "https://localhost:8080/",
          "height": 51
        },
        "outputId": "e5d28430-8535-4f9b-eaf0-ba7596b271cb"
      },
      "source": [
        "mylist = [1,4,58,45,64]\n",
        "list1 = []\n",
        "if mylist == []:\n",
        "    print(\"True\")\n",
        "else:\n",
        "    print(\"False\")\n",
        "    \n",
        "if list1 != []:\n",
        "    print(\"False\")\n",
        "else:\n",
        "    print(\"True\")"
      ],
      "execution_count": 3,
      "outputs": [
        {
          "output_type": "stream",
          "text": [
            "False\n",
            "True\n"
          ],
          "name": "stdout"
        }
      ]
    },
    {
      "cell_type": "markdown",
      "metadata": {
        "id": "H3yXt82GEgHK",
        "colab_type": "text"
      },
      "source": [
        "4.Write a program to clone or copy a list.\n",
        "\n"
      ]
    },
    {
      "cell_type": "code",
      "metadata": {
        "id": "l2rSfApTEsCd",
        "colab_type": "code",
        "colab": {
          "base_uri": "https://localhost:8080/",
          "height": 51
        },
        "outputId": "e7651682-34d3-46d6-a282-9e5bc47325ed"
      },
      "source": [
        "list = [1,4,58,45,64]\n",
        "print(\"Original list:\",list)\n",
        "newlist = list.copy()\n",
        "print(\"Copied list:\",newlist)"
      ],
      "execution_count": 4,
      "outputs": [
        {
          "output_type": "stream",
          "text": [
            "Original list: [1, 4, 58, 45, 64]\n",
            "Copied list: [1, 4, 58, 45, 64]\n"
          ],
          "name": "stdout"
        }
      ]
    },
    {
      "cell_type": "markdown",
      "metadata": {
        "id": "_SglXuc6E3lV",
        "colab_type": "text"
      },
      "source": [
        "5.Write a program to print a specified list after removing the 0th, 4th and 5th elements."
      ]
    },
    {
      "cell_type": "code",
      "metadata": {
        "id": "KRO5O0b5E9Zz",
        "colab_type": "code",
        "colab": {
          "base_uri": "https://localhost:8080/",
          "height": 34
        },
        "outputId": "f7aa2aef-5036-45c2-c7c0-968e2612af41"
      },
      "source": [
        "clglist = [\"vamsi\",\"dinesh\",\"raja\",\"hemanth\",\"sandeep\"]\n",
        "clglist.pop(0)\n",
        "clglist.remove(\"hemanth\")\n",
        "clglist.remove(\"sandeep\")\n",
        "print(\"New list:\",clglist)"
      ],
      "execution_count": 7,
      "outputs": [
        {
          "output_type": "stream",
          "text": [
            "New list: ['dinesh', 'raja']\n"
          ],
          "name": "stdout"
        }
      ]
    },
    {
      "cell_type": "markdown",
      "metadata": {
        "id": "OYgFswRGFsRs",
        "colab_type": "text"
      },
      "source": [
        "6.Write a program to print the numbers of a specified list after removing even numbers from it."
      ]
    },
    {
      "cell_type": "code",
      "metadata": {
        "id": "bzA7B-p0FwHy",
        "colab_type": "code",
        "colab": {
          "base_uri": "https://localhost:8080/",
          "height": 34
        },
        "outputId": "ba3f4bd3-932a-4167-ec6e-4f3b8863a392"
      },
      "source": [
        "mlist = [1,2,3,4,5,6,7,8,9,10]\n",
        "for item in mlist:\n",
        "    if item%2==0:\n",
        "        mlist.remove(item)\n",
        "print(mlist)"
      ],
      "execution_count": 10,
      "outputs": [
        {
          "output_type": "stream",
          "text": [
            "[1, 3, 5, 7, 9]\n"
          ],
          "name": "stdout"
        }
      ]
    },
    {
      "cell_type": "markdown",
      "metadata": {
        "id": "VQsZEssQGCAV",
        "colab_type": "text"
      },
      "source": [
        "7.Write a program to shuffle and print a list."
      ]
    },
    {
      "cell_type": "code",
      "metadata": {
        "id": "JpW1OeNVGImP",
        "colab_type": "code",
        "colab": {
          "base_uri": "https://localhost:8080/",
          "height": 34
        },
        "outputId": "fe9defdb-158c-4f29-8088-6ba212f96fc9"
      },
      "source": [
        "from random import shuffle\n",
        "mylist = [2,5,8,4,9,4,5,4,5,4,]\n",
        "shuffle(mylist)\n",
        "print(\"New list:\",mylist)"
      ],
      "execution_count": 13,
      "outputs": [
        {
          "output_type": "stream",
          "text": [
            "New list: [4, 5, 9, 2, 5, 8, 4, 4, 5, 4]\n"
          ],
          "name": "stdout"
        }
      ]
    },
    {
      "cell_type": "code",
      "metadata": {
        "id": "2Spw0NBdGbH2",
        "colab_type": "code",
        "colab": {}
      },
      "source": [
        "8.Writa a program to find the difference between two lists."
      ],
      "execution_count": null,
      "outputs": []
    },
    {
      "cell_type": "code",
      "metadata": {
        "id": "VlSh-V40GfZ3",
        "colab_type": "code",
        "colab": {
          "base_uri": "https://localhost:8080/",
          "height": 34
        },
        "outputId": "113b304a-6a9a-4147-9e94-e26d31505851"
      },
      "source": [
        "l1 = [1,2,3,4,5,6]\n",
        "l2 = [4,2,6]\n",
        "l3 = []\n",
        "for item in l1:\n",
        "    if item not in l2:\n",
        "        l3.append(item)\n",
        "print(l3,\"is difference between given lists.\")"
      ],
      "execution_count": 15,
      "outputs": [
        {
          "output_type": "stream",
          "text": [
            "[1, 3, 5] is difference between given lists.\n"
          ],
          "name": "stdout"
        }
      ]
    }
  ]
}